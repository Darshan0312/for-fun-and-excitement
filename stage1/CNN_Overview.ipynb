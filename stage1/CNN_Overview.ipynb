{
 "cells": [
  {
   "cell_type": "markdown",
   "id": "c30ef3bc",
   "metadata": {},
   "source": [
    "# Convolutional Neural Networks (CNN) Overview\n",
    "\n",
    "This notebook provides a complete overview of CNNs (Convolutional Neural Networks), including theoretical understanding and a practical PyTorch implementation.\n"
   ]
  },
  {
   "cell_type": "markdown",
   "id": "5a50d9f2",
   "metadata": {},
   "source": [
    "## What is a CNN?\n",
    "\n",
    "A **Convolutional Neural Network (CNN)** is a type of deep learning model that is especially powerful for processing data with a grid-like topology, such as images. CNNs are widely used in tasks like image classification, object detection, and facial recognition."
   ]
  },
  {
   "cell_type": "markdown",
   "id": "3636ff5f",
   "metadata": {},
   "source": [
    "### CNN Architecture Components\n",
    "- **Convolutional Layer**: Applies filters to extract local patterns (e.g., edges, textures).\n",
    "- **Activation Function (ReLU)**: Introduces non-linearity.\n",
    "- **Pooling Layer (MaxPooling)**: Downsamples feature maps, reducing spatial size.\n",
    "- **Fully Connected Layer**: Maps features to output classes.\n",
    "- **Softmax (for classification)**: Converts outputs to probabilities."
   ]
  },
  {
   "cell_type": "markdown",
   "id": "0f8027ab",
   "metadata": {},
   "source": [
    "### Example CNN Architecture for CIFAR-10 (32x32 RGB Images)\n",
    "```\n",
    "Input Image (3x32x32)\n",
    "-> Conv2D (32 filters, 3x3) + ReLU + MaxPool (2x2)\n",
    "-> Conv2D (64 filters, 3x3) + ReLU + MaxPool (2x2)\n",
    "-> Flatten\n",
    "-> Fully Connected Layer (128 units) + ReLU\n",
    "-> Fully Connected Layer (10 units) + Softmax\n",
    "```"
   ]
  },
  {
   "cell_type": "code",
   "execution_count": null,
   "id": "c4d95ef7",
   "metadata": {},
   "outputs": [],
   "source": [
    "# PyTorch CNN Implementation\n",
    "import torch\n",
    "import torch.nn as nn\n",
    "import torch.nn.functional as F\n",
    "\n",
    "class SimpleCNN(nn.Module):\n",
    "    def __init__(self, num_classes=10):\n",
    "        super(SimpleCNN, self).__init__()\n",
    "        self.conv1 = nn.Conv2d(in_channels=3, out_channels=32, kernel_size=3, padding=1)\n",
    "        self.pool = nn.MaxPool2d(kernel_size=2, stride=2)\n",
    "        self.conv2 = nn.Conv2d(in_channels=32, out_channels=64, kernel_size=3, padding=1)\n",
    "        self.fc1 = nn.Linear(64 * 8 * 8, 128)\n",
    "        self.fc2 = nn.Linear(128, num_classes)\n",
    "\n",
    "    def forward(self, x):\n",
    "        x = self.pool(F.relu(self.conv1(x)))\n",
    "        x = self.pool(F.relu(self.conv2(x)))\n",
    "        x = x.view(-1, 64 * 8 * 8)\n",
    "        x = F.relu(self.fc1(x))\n",
    "        x = self.fc2(x)\n",
    "        return x\n",
    "\n",
    "# Model Summary Example\n",
    "model = SimpleCNN(num_classes=10)\n",
    "print(model)"
   ]
  }
 ],
 "metadata": {
  "kernelspec": {
   "display_name": "Python [conda env:base] *",
   "language": "python",
   "name": "conda-base-py"
  },
  "language_info": {
   "codemirror_mode": {
    "name": "ipython",
    "version": 3
   },
   "file_extension": ".py",
   "mimetype": "text/x-python",
   "name": "python",
   "nbconvert_exporter": "python",
   "pygments_lexer": "ipython3",
   "version": "3.12.7"
  }
 },
 "nbformat": 4,
 "nbformat_minor": 5
}
